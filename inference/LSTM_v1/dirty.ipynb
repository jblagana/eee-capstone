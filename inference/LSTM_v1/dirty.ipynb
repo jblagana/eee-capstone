{
 "cells": [
  {
   "cell_type": "code",
   "execution_count": 1,
   "metadata": {},
   "outputs": [],
   "source": [
    "import pandas as pd\n",
    "import numpy as np"
   ]
  },
  {
   "cell_type": "code",
   "execution_count": 2,
   "metadata": {},
   "outputs": [],
   "source": [
    "n_features = 6  # Number of features\n",
    "sequence_length = 20  # Length of each sequence\n",
    "\n",
    "df = pd.read_csv('data.csv')\n",
    "video_ids = df['video_id'].unique()\n",
    "\n",
    "all_features = []  # Accumulate features\n",
    "all_labels = []    # Accumulate labels\n",
    "\n",
    "for video_id in video_ids:\n",
    "    filtered_df = df[df['video_id'] == video_id]\n",
    "    features = filtered_df[['crowd_density', 'crowd_count', 'loitering', 'low_concealment', 'med_concealment', 'high_concealment']]\n",
    "    RBP = filtered_df['rbp'].iloc[0]\n",
    "    features = features.to_numpy()\n",
    "    n_seq = len(features) // sequence_length\n",
    "\n",
    "    # Reshape the features into batches\n",
    "    features = features[:sequence_length * n_seq].reshape(-1, sequence_length, n_features)\n",
    "    labels = [RBP] * n_seq\n",
    "\n",
    "    # Extend the lists\n",
    "    all_features.extend(features)\n",
    "    all_labels.extend(labels)\n",
    "\n",
    "# Convert to NumPy arrays\n",
    "features = np.array(all_features)\n",
    "labels = np.array(all_labels)"
   ]
  },
  {
   "cell_type": "code",
   "execution_count": 3,
   "metadata": {},
   "outputs": [
    {
     "data": {
      "text/plain": [
       "array([[[ 25,  78,  50,  49,  70,  64],\n",
       "        [ 19,  58,  65,  15,  37,  10],\n",
       "        [ 33,  22,  93,  21,  40,  40],\n",
       "        ...,\n",
       "        [ 52,  77,  17,  72,  27,  49],\n",
       "        [ 47,  44,  63,  25, 100,  11],\n",
       "        [ 11,  15,  35,  87,  53,  22]],\n",
       "\n",
       "       [[ 98,  33,  88,  42,  17,  33],\n",
       "        [ 23,  20,  78,  74,  77,  18],\n",
       "        [ 83,  53,  48,  37,  73,  27],\n",
       "        ...,\n",
       "        [ 20,   7,  41,  88,  98,  42],\n",
       "        [  0,  45,  46,  54,  10,  47],\n",
       "        [  7,  44,  68,  14,  14,  63]],\n",
       "\n",
       "       [[  3,   8,  21,   2,  82,  78],\n",
       "        [  6,  47,   1,  46,  17,  73],\n",
       "        [  4,  11,  94,  87,  14,  10],\n",
       "        ...,\n",
       "        [ 89,  59,  39,  31,  35,  93],\n",
       "        [ 75,  13,  22,  28,  28,   0],\n",
       "        [ 20,  79,  27,  74,  60,  19]],\n",
       "\n",
       "       ...,\n",
       "\n",
       "       [[ 82,  46,  90,  54,  85,  37],\n",
       "        [ 66,  78,  59,   2,  53,  42],\n",
       "        [  6,  41,  38,  52,  27,  20],\n",
       "        ...,\n",
       "        [ 15,   9,  79,  30,  83,  87],\n",
       "        [ 87,  22,  72,  95,  86,   9],\n",
       "        [ 55, 100,  96,  67,  91,  25]],\n",
       "\n",
       "       [[ 69,   2,  89,  18,  51,  11],\n",
       "        [ 74,  39,  88,  34,  75,  17],\n",
       "        [ 95,  15,  59,  96,   5,  63],\n",
       "        ...,\n",
       "        [ 29,  58,  88,   2,  91,  23],\n",
       "        [ 87,  35,  24,  49,  97,  89],\n",
       "        [ 22,   1,   6,  40,  16,  19]],\n",
       "\n",
       "       [[  2,  15,  61,  81,  55,  63],\n",
       "        [ 91,  67,  79,  99,  85,  51],\n",
       "        [ 67,  90,  42,  70,  29,  28],\n",
       "        ...,\n",
       "        [ 37,  54,  34,  40,  38,  47],\n",
       "        [ 86,  24,  16,  99,  24,  24],\n",
       "        [ 54,  13,  58,  58, 100,  37]]], dtype=int64)"
      ]
     },
     "execution_count": 3,
     "metadata": {},
     "output_type": "execute_result"
    }
   ],
   "source": [
    "features"
   ]
  }
 ],
 "metadata": {
  "kernelspec": {
   "display_name": "env3.10",
   "language": "python",
   "name": "python3"
  },
  "language_info": {
   "codemirror_mode": {
    "name": "ipython",
    "version": 3
   },
   "file_extension": ".py",
   "mimetype": "text/x-python",
   "name": "python",
   "nbconvert_exporter": "python",
   "pygments_lexer": "ipython3",
   "version": "3.10.11"
  }
 },
 "nbformat": 4,
 "nbformat_minor": 2
}
