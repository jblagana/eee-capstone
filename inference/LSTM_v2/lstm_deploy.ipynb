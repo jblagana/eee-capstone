{
 "cells": [
  {
   "cell_type": "code",
   "execution_count": 1,
   "metadata": {},
   "outputs": [],
   "source": [
    "import torch\n",
    "import numpy as np\n",
    "import pandas as pd\n",
    "from lstm_aux import LSTMModel\n",
    "from sklearn.preprocessing import StandardScaler\n",
    "\n",
    "scaler = StandardScaler()"
   ]
  },
  {
   "cell_type": "code",
   "execution_count": 2,
   "metadata": {},
   "outputs": [],
   "source": [
    "n_features = 6\n",
    "sequence_length = 20"
   ]
  },
  {
   "cell_type": "code",
   "execution_count": 3,
   "metadata": {},
   "outputs": [
    {
     "data": {
      "text/plain": [
       "LSTMModel(\n",
       "  (lstm1): LSTM(6, 64, batch_first=True)\n",
       "  (fc): Linear(in_features=64, out_features=1, bias=True)\n",
       "  (sigmoid): Sigmoid()\n",
       ")"
      ]
     },
     "execution_count": 3,
     "metadata": {},
     "output_type": "execute_result"
    }
   ],
   "source": [
    "# Create an instance of the LSTM model\n",
    "model = LSTMModel(n_features, hidden_size=64)\n",
    "\n",
    "# Load the saved weights\n",
    "model.load_state_dict(torch.load('lstm_model_0.485.pt'))\n",
    "model.eval()  # Set the model to evaluation mode"
   ]
  },
  {
   "cell_type": "code",
   "execution_count": 4,
   "metadata": {},
   "outputs": [],
   "source": [
    "input_sequence =   [['normal_trimmed_39.mp4', 1, 0.0, -1.0, 0, 0, 0, 0],\n",
    "                    ['normal_trimmed_39.mp4', 2, 0.0, -1.0, 0, 0, 0, 0],\n",
    "                    ['normal_trimmed_39.mp4', 3, 0.0, -1.0, 0, 0, 0, 0],\n",
    "                    ['normal_trimmed_39.mp4', 4, 0.0, -1.0, 0, 0, 0, 0],\n",
    "                    ['normal_trimmed_39.mp4', 5, 0.0, -1.0, 0, 0, 0, 0],\n",
    "                    ['normal_trimmed_39.mp4', 6, 0.0, -1.0, 0, 0, 0, 0],\n",
    "                    ['normal_trimmed_39.mp4', 7, 0.0, -1.0, 0, 0, 0, 0],\n",
    "                    ['normal_trimmed_39.mp4', 8, 0.0, -1.0, 0, 0, 0, 0],\n",
    "                    ['normal_trimmed_39.mp4', 9, 0.0, -1.0, 0, 0, 0, 0],\n",
    "                    ['normal_trimmed_39.mp4', 10, 0.0, -1.0, 0, 0, 0, 0],\n",
    "                    ['normal_trimmed_39.mp4', 11, 0.0, -1.0, 0, 0, 0, 0],\n",
    "                    ['normal_trimmed_39.mp4', 12, 0.2613290720593492, 0.0, 1, 0, 0, 0],\n",
    "                    ['normal_trimmed_39.mp4', 13, 0.2621389838245704, 0.0, 1, 0, 0, 0],\n",
    "                    ['normal_trimmed_39.mp4', 14, 0.2646246850364757, 0.0, 1, 0, 0, 0],\n",
    "                    ['normal_trimmed_39.mp4', 15, 0.2616935144854627, 0.0, 1, 0, 0, 0],\n",
    "                    ['normal_trimmed_39.mp4', 16, 0.2574731656160717, 0.0, 1, 0, 0, 0],\n",
    "                    ['normal_trimmed_39.mp4', 17, 1.788942931909484, 2.5, 1, 1, 0, 0],\n",
    "                    ['normal_trimmed_39.mp4', 18, 1.8930430067860773, 2.5, 1, 1, 0, 0],\n",
    "                    ['normal_trimmed_39.mp4', 19, 1.935407728971768, 2.5, 1, 1, 0, 0],\n",
    "                    ['normal_trimmed_39.mp4', 20, 1.794614067543686, 2.5, 1, 1, 0, 0]]\n",
    "\n",
    "input_sequence = np.array(input_sequence)"
   ]
  },
  {
   "cell_type": "code",
   "execution_count": 5,
   "metadata": {},
   "outputs": [
    {
     "name": "stdout",
     "output_type": "stream",
     "text": [
      "LOW Robbery Potential (0.471)\n"
     ]
    }
   ],
   "source": [
    "optimal_threshold = 0.485\n",
    "\n",
    "temp_vid_id = ''\n",
    "input_data = input_sequence[:, 2:].astype(np.float32)\n",
    "input_data_scaled = scaler.fit_transform(input_data)\n",
    "input_data = torch.tensor(input_data_scaled, dtype=torch.float32) # Convert numpy array to tensor\n",
    "vid_id, frame_num = input_sequence[sequence_length-1, 0], input_sequence[sequence_length-1, 1]  # ID and frame of last row in the sequence\n",
    "\n",
    "if vid_id == temp_vid_id:\n",
    "    RBP = 1  # Ignore succeedig sequences from the same video if robbery prediction was already made\n",
    "\n",
    "# Make predictions\n",
    "with torch.no_grad():\n",
    "    output = model(input_data.unsqueeze(0))  # Add batch dimension\n",
    "    RBP = (output).squeeze().cpu().numpy()\n",
    "\n",
    "if RBP >= optimal_threshold:\n",
    "    temp_vid_id = vid_id\n",
    "    print('WARNING! High Robbery Potential!')\n",
    "else:\n",
    "    print(f'LOW Robbery Potential ({RBP:.3f})')"
   ]
  }
 ],
 "metadata": {
  "kernelspec": {
   "display_name": "env3.10",
   "language": "python",
   "name": "python3"
  },
  "language_info": {
   "codemirror_mode": {
    "name": "ipython",
    "version": 3
   },
   "file_extension": ".py",
   "mimetype": "text/x-python",
   "name": "python",
   "nbconvert_exporter": "python",
   "pygments_lexer": "ipython3",
   "version": "3.10.11"
  }
 },
 "nbformat": 4,
 "nbformat_minor": 2
}
