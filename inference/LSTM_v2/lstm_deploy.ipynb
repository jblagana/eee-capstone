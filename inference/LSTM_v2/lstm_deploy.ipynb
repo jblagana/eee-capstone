{
 "cells": [
  {
   "cell_type": "code",
   "execution_count": 8,
   "metadata": {},
   "outputs": [],
   "source": [
    "import torch\n",
    "import torch.nn as nn\n",
    "import numpy as np\n",
    "import pandas as pd\n",
    "from sklearn.preprocessing import StandardScaler\n",
    "scaler = StandardScaler()"
   ]
  },
  {
   "cell_type": "code",
   "execution_count": 9,
   "metadata": {},
   "outputs": [],
   "source": [
    "class LSTMModel(nn.Module):\n",
    "    def __init__(self, input_size, hidden_size):\n",
    "        super(LSTMModel, self).__init__()\n",
    "        self.lstm1 = nn.LSTM(input_size, hidden_size, batch_first=True)\n",
    "        self.fc = nn.Linear(hidden_size, 1)  # Single output neuron for binary classification\n",
    "        self.sigmoid = nn.Sigmoid()  # Sigmoid activation for binary classification\n",
    "\n",
    "    def forward(self, x):\n",
    "        out, _ = self.lstm1(x)\n",
    "        out = self.fc(out[:, -1, :])  # Use the last hidden state for prediction (summary)\n",
    "        out = self.sigmoid(out) # Apply sigmoid activation\n",
    "        return out"
   ]
  },
  {
   "cell_type": "code",
   "execution_count": 10,
   "metadata": {},
   "outputs": [],
   "source": [
    "n_features = 6\n",
    "sequence_length = 20"
   ]
  },
  {
   "cell_type": "code",
   "execution_count": 14,
   "metadata": {},
   "outputs": [
    {
     "ename": "RuntimeError",
     "evalue": "Error(s) in loading state_dict for LSTMModel:\n\tMissing key(s) in state_dict: \"fc.weight\", \"fc.bias\". \n\tUnexpected key(s) in state_dict: \"lstm2.weight_ih_l0\", \"lstm2.weight_hh_l0\", \"lstm2.bias_ih_l0\", \"lstm2.bias_hh_l0\", \"fc1.weight\", \"fc1.bias\", \"fc2.weight\", \"fc2.bias\", \"fc3.weight\", \"fc3.bias\". \n\tsize mismatch for lstm1.weight_ih_l0: copying a param with shape torch.Size([256, 3]) from checkpoint, the shape in current model is torch.Size([256, 6]).",
     "output_type": "error",
     "traceback": [
      "\u001b[1;31m---------------------------------------------------------------------------\u001b[0m",
      "\u001b[1;31mRuntimeError\u001b[0m                              Traceback (most recent call last)",
      "Cell \u001b[1;32mIn[14], line 5\u001b[0m\n\u001b[0;32m      2\u001b[0m model \u001b[38;5;241m=\u001b[39m LSTMModel(n_features, hidden_size\u001b[38;5;241m=\u001b[39m\u001b[38;5;241m64\u001b[39m)\n\u001b[0;32m      4\u001b[0m \u001b[38;5;66;03m# Load the saved weights\u001b[39;00m\n\u001b[1;32m----> 5\u001b[0m \u001b[43mmodel\u001b[49m\u001b[38;5;241;43m.\u001b[39;49m\u001b[43mload_state_dict\u001b[49m\u001b[43m(\u001b[49m\u001b[43mtorch\u001b[49m\u001b[38;5;241;43m.\u001b[39;49m\u001b[43mload\u001b[49m\u001b[43m(\u001b[49m\u001b[38;5;124;43m'\u001b[39;49m\u001b[38;5;124;43mmodel.pt\u001b[39;49m\u001b[38;5;124;43m'\u001b[39;49m\u001b[43m)\u001b[49m\u001b[43m)\u001b[49m\n\u001b[0;32m      6\u001b[0m model\u001b[38;5;241m.\u001b[39meval()  \u001b[38;5;66;03m# Set the model to evaluation mode\u001b[39;00m\n",
      "File \u001b[1;32mc:\\Users\\janrh\\OneDrive - University of the Philippines\\Acads\\4TH YEAR (23-24)\\2ND SEM\\EE 199\\eee-capstone\\env3.10\\lib\\site-packages\\torch\\nn\\modules\\module.py:2153\u001b[0m, in \u001b[0;36mModule.load_state_dict\u001b[1;34m(self, state_dict, strict, assign)\u001b[0m\n\u001b[0;32m   2148\u001b[0m         error_msgs\u001b[38;5;241m.\u001b[39minsert(\n\u001b[0;32m   2149\u001b[0m             \u001b[38;5;241m0\u001b[39m, \u001b[38;5;124m'\u001b[39m\u001b[38;5;124mMissing key(s) in state_dict: \u001b[39m\u001b[38;5;132;01m{}\u001b[39;00m\u001b[38;5;124m. \u001b[39m\u001b[38;5;124m'\u001b[39m\u001b[38;5;241m.\u001b[39mformat(\n\u001b[0;32m   2150\u001b[0m                 \u001b[38;5;124m'\u001b[39m\u001b[38;5;124m, \u001b[39m\u001b[38;5;124m'\u001b[39m\u001b[38;5;241m.\u001b[39mjoin(\u001b[38;5;124mf\u001b[39m\u001b[38;5;124m'\u001b[39m\u001b[38;5;124m\"\u001b[39m\u001b[38;5;132;01m{\u001b[39;00mk\u001b[38;5;132;01m}\u001b[39;00m\u001b[38;5;124m\"\u001b[39m\u001b[38;5;124m'\u001b[39m \u001b[38;5;28;01mfor\u001b[39;00m k \u001b[38;5;129;01min\u001b[39;00m missing_keys)))\n\u001b[0;32m   2152\u001b[0m \u001b[38;5;28;01mif\u001b[39;00m \u001b[38;5;28mlen\u001b[39m(error_msgs) \u001b[38;5;241m>\u001b[39m \u001b[38;5;241m0\u001b[39m:\n\u001b[1;32m-> 2153\u001b[0m     \u001b[38;5;28;01mraise\u001b[39;00m \u001b[38;5;167;01mRuntimeError\u001b[39;00m(\u001b[38;5;124m'\u001b[39m\u001b[38;5;124mError(s) in loading state_dict for \u001b[39m\u001b[38;5;132;01m{}\u001b[39;00m\u001b[38;5;124m:\u001b[39m\u001b[38;5;130;01m\\n\u001b[39;00m\u001b[38;5;130;01m\\t\u001b[39;00m\u001b[38;5;132;01m{}\u001b[39;00m\u001b[38;5;124m'\u001b[39m\u001b[38;5;241m.\u001b[39mformat(\n\u001b[0;32m   2154\u001b[0m                        \u001b[38;5;28mself\u001b[39m\u001b[38;5;241m.\u001b[39m\u001b[38;5;18m__class__\u001b[39m\u001b[38;5;241m.\u001b[39m\u001b[38;5;18m__name__\u001b[39m, \u001b[38;5;124m\"\u001b[39m\u001b[38;5;130;01m\\n\u001b[39;00m\u001b[38;5;130;01m\\t\u001b[39;00m\u001b[38;5;124m\"\u001b[39m\u001b[38;5;241m.\u001b[39mjoin(error_msgs)))\n\u001b[0;32m   2155\u001b[0m \u001b[38;5;28;01mreturn\u001b[39;00m _IncompatibleKeys(missing_keys, unexpected_keys)\n",
      "\u001b[1;31mRuntimeError\u001b[0m: Error(s) in loading state_dict for LSTMModel:\n\tMissing key(s) in state_dict: \"fc.weight\", \"fc.bias\". \n\tUnexpected key(s) in state_dict: \"lstm2.weight_ih_l0\", \"lstm2.weight_hh_l0\", \"lstm2.bias_ih_l0\", \"lstm2.bias_hh_l0\", \"fc1.weight\", \"fc1.bias\", \"fc2.weight\", \"fc2.bias\", \"fc3.weight\", \"fc3.bias\". \n\tsize mismatch for lstm1.weight_ih_l0: copying a param with shape torch.Size([256, 3]) from checkpoint, the shape in current model is torch.Size([256, 6])."
     ]
    }
   ],
   "source": [
    "# Create an instance of the LSTM model\n",
    "model = LSTMModel(n_features, hidden_size=64)\n",
    "\n",
    "# Load the saved weights\n",
    "model.load_state_dict(torch.load('lstm_model_0.485.pt'))\n",
    "model.eval()  # Set the model to evaluation mode"
   ]
  },
  {
   "cell_type": "code",
   "execution_count": 12,
   "metadata": {},
   "outputs": [],
   "source": [
    "input_sequence =   [['normal_trimmed_39.mp4', 1, 0.0, -1.0, 0, 0, 0, 0],\n",
    "                    ['normal_trimmed_39.mp4', 2, 0.0, -1.0, 0, 0, 0, 0],\n",
    "                    ['normal_trimmed_39.mp4', 3, 0.0, -1.0, 0, 0, 0, 0],\n",
    "                    ['normal_trimmed_39.mp4', 4, 0.0, -1.0, 0, 0, 0, 0],\n",
    "                    ['normal_trimmed_39.mp4', 5, 0.0, -1.0, 0, 0, 0, 0],\n",
    "                    ['normal_trimmed_39.mp4', 6, 0.0, -1.0, 0, 0, 0, 0],\n",
    "                    ['normal_trimmed_39.mp4', 7, 0.0, -1.0, 0, 0, 0, 0],\n",
    "                    ['normal_trimmed_39.mp4', 8, 0.0, -1.0, 0, 0, 0, 0],\n",
    "                    ['normal_trimmed_39.mp4', 9, 0.0, -1.0, 0, 0, 0, 0],\n",
    "                    ['normal_trimmed_39.mp4', 10, 0.0, -1.0, 0, 0, 0, 0],\n",
    "                    ['normal_trimmed_39.mp4', 11, 0.0, -1.0, 0, 0, 0, 0],\n",
    "                    ['normal_trimmed_39.mp4', 12, 0.2613290720593492, 0.0, 1, 0, 0, 0],\n",
    "                    ['normal_trimmed_39.mp4', 13, 0.2621389838245704, 0.0, 1, 0, 0, 0],\n",
    "                    ['normal_trimmed_39.mp4', 14, 0.2646246850364757, 0.0, 1, 0, 0, 0],\n",
    "                    ['normal_trimmed_39.mp4', 15, 0.2616935144854627, 0.0, 1, 0, 0, 0],\n",
    "                    ['normal_trimmed_39.mp4', 16, 0.2574731656160717, 0.0, 1, 0, 0, 0],\n",
    "                    ['normal_trimmed_39.mp4', 17, 1.788942931909484, 2.5, 1, 1, 0, 0],\n",
    "                    ['normal_trimmed_39.mp4', 18, 1.8930430067860773, 2.5, 1, 1, 0, 0],\n",
    "                    ['normal_trimmed_39.mp4', 19, 1.935407728971768, 2.5, 1, 1, 0, 0],\n",
    "                    ['normal_trimmed_39.mp4', 20, 1.794614067543686, 2.5, 1, 1, 0, 0]]\n",
    "\n",
    "input_sequence = np.array(input_sequence)"
   ]
  },
  {
   "cell_type": "code",
   "execution_count": 13,
   "metadata": {},
   "outputs": [
    {
     "name": "stdout",
     "output_type": "stream",
     "text": [
      "LOW Robbery Potential (0.471)\n"
     ]
    }
   ],
   "source": [
    "optimal_threshold = 0.485\n",
    "\n",
    "temp_vid_id = ''\n",
    "input_data = input_sequence[:, 2:].astype(np.float32)\n",
    "input_data_scaled = scaler.fit_transform(input_data)\n",
    "input_data = torch.tensor(input_data_scaled, dtype=torch.float32) # Convert numpy array to tensor\n",
    "vid_id, frame_num = input_sequence[sequence_length-1, 0], input_sequence[sequence_length-1, 1]  # ID and frame of last row in the sequence\n",
    "\n",
    "if vid_id == temp_vid_id:\n",
    "    RBP = 1  # Ignore succeedig sequences from the same video if robbery prediction was already made\n",
    "\n",
    "# Make predictions\n",
    "with torch.no_grad():\n",
    "    output = model(input_data.unsqueeze(0))  # Add batch dimension\n",
    "    RBP = (output).squeeze().cpu().numpy()\n",
    "\n",
    "if RBP >= optimal_threshold:\n",
    "    temp_vid_id = vid_id\n",
    "    print('WARNING! High Robbery Potential!')\n",
    "else:\n",
    "    print(f'LOW Robbery Potential ({RBP:.3f})')"
   ]
  }
 ],
 "metadata": {
  "kernelspec": {
   "display_name": "env3.10",
   "language": "python",
   "name": "python3"
  },
  "language_info": {
   "codemirror_mode": {
    "name": "ipython",
    "version": 3
   },
   "file_extension": ".py",
   "mimetype": "text/x-python",
   "name": "python",
   "nbconvert_exporter": "python",
   "pygments_lexer": "ipython3",
   "version": "3.10.11"
  }
 },
 "nbformat": 4,
 "nbformat_minor": 2
}
