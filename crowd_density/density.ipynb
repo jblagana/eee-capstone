{
 "cells": [
  {
   "cell_type": "code",
   "execution_count": 6,
   "metadata": {},
   "outputs": [
    {
     "name": "stdout",
     "output_type": "stream",
     "text": [
      "\n",
      "0: 384x640 4 persons, 171.0ms\n",
      "Speed: 3.0ms preprocess, 171.0ms inference, 8.0ms postprocess per image at shape (1, 3, 384, 640)\n"
     ]
    }
   ],
   "source": [
    "import cv2\n",
    "import numpy as np\n",
    "from ultralytics import YOLO\n",
    "\n",
    "# Load the YOLOv8 instance segmentation model\n",
    "model = YOLO('yolov8n-seg.pt')\n",
    "\n",
    "# Load an image\n",
    "img = cv2.imread('group2.jpg')--\n",
    "\n",
    "# Predict the segmentation masks\n",
    "results = model.predict(img)\n",
    "\n",
    "# Get the segmentation masks\n",
    "masks = results[0].masks.xy\n",
    "\n",
    "# Initialize an empty list to store the vertices in CCW order\n",
    "vertices_ccw = []\n",
    "\n",
    "# Iterate over each mask\n",
    "for mask in masks:\n",
    "    # Convert the mask to a binary image\n",
    "    binary_mask = np.array(mask, dtype=np.uint8)\n",
    "\n",
    "    # Find the contours of the binary image\n",
    "    contours, _ = cv2.findContours(binary_mask, cv2.RETR_EXTERNAL, cv2.CHAIN_APPROX_SIMPLE)\n",
    "\n",
    "    # Get the vertices of the contour in CCW order\n",
    "    for contour in contours:\n",
    "        hull = cv2.convexHull(contour, clockwise=False)\n",
    "        vertices_ccw.append(hull)\n"
   ]
  },
  {
   "cell_type": "code",
   "execution_count": 9,
   "metadata": {},
   "outputs": [
    {
     "data": {
      "text/plain": [
       "array([[     291.52,       165.8],\n",
       "       [     290.55,      166.77],\n",
       "       [     289.57,      166.77],\n",
       "       [      288.6,      167.75],\n",
       "       [      288.6,      168.72],\n",
       "       [     287.62,       169.7],\n",
       "       [     287.62,      172.62],\n",
       "       [     286.65,       173.6],\n",
       "       [     286.65,      174.57],\n",
       "       [     285.67,      175.55],\n",
       "       [     285.67,       181.4],\n",
       "       [      284.7,      182.37],\n",
       "       [      284.7,       189.2],\n",
       "       [     283.72,      190.17],\n",
       "       [     283.72,      191.15],\n",
       "       [     281.77,       193.1],\n",
       "       [      280.8,       193.1],\n",
       "       [     278.85,      195.05],\n",
       "       [     277.87,      195.05],\n",
       "       [      276.9,      196.02],\n",
       "       [     275.92,      196.02],\n",
       "       [     274.95,         197],\n",
       "       [     273.97,         197],\n",
       "       [     273.97,      197.97],\n",
       "       [      269.1,      202.85],\n",
       "       [      269.1,      203.82],\n",
       "       [     267.15,      205.77],\n",
       "       [     267.15,      206.75],\n",
       "       [     266.17,      207.72],\n",
       "       [     266.17,      209.67],\n",
       "       [      265.2,      210.65],\n",
       "       [      265.2,      223.32],\n",
       "       [     266.17,       224.3],\n",
       "       [     266.17,      227.22],\n",
       "       [     267.15,       228.2],\n",
       "       [     267.15,      229.17],\n",
       "       [     268.12,      230.15],\n",
       "       [     268.12,       232.1],\n",
       "       [      269.1,      233.07],\n",
       "       [      269.1,         236],\n",
       "       [     270.07,      236.97],\n",
       "       [     270.07,       239.9],\n",
       "       [     271.05,      240.87],\n",
       "       [     271.05,      242.82],\n",
       "       [     272.02,       243.8],\n",
       "       [     272.02,      248.67],\n",
       "       [        273,      249.65],\n",
       "       [        273,      250.62],\n",
       "       [     273.97,       251.6],\n",
       "       [     273.97,      252.57],\n",
       "       [     274.95,      253.55],\n",
       "       [     278.85,      253.55],\n",
       "       [     279.82,      252.57],\n",
       "       [     281.77,      252.57],\n",
       "       [     282.75,       251.6],\n",
       "       [     287.62,       251.6],\n",
       "       [      288.6,      250.62],\n",
       "       [     289.57,      250.62],\n",
       "       [     293.47,      246.72],\n",
       "       [     306.15,      246.72],\n",
       "       [     307.12,      245.75],\n",
       "       [     310.05,      245.75],\n",
       "       [     311.02,      244.77],\n",
       "       [        312,      244.77],\n",
       "       [     312.97,       243.8],\n",
       "       [     320.77,       243.8],\n",
       "       [     321.75,      242.82],\n",
       "       [     324.67,      242.82],\n",
       "       [     326.62,      240.87],\n",
       "       [     326.62,       228.2],\n",
       "       [      327.6,      227.22],\n",
       "       [      327.6,      218.45],\n",
       "       [     326.62,      217.47],\n",
       "       [     326.62,       208.7],\n",
       "       [     325.65,      207.72],\n",
       "       [     325.65,      201.87],\n",
       "       [     324.67,       200.9],\n",
       "       [     324.67,      198.95],\n",
       "       [      323.7,      197.97],\n",
       "       [      323.7,      195.05],\n",
       "       [     322.72,      194.07],\n",
       "       [     322.72,       193.1],\n",
       "       [     321.75,      192.12],\n",
       "       [     321.75,      191.15],\n",
       "       [      315.9,       185.3],\n",
       "       [      315.9,      183.35],\n",
       "       [     314.92,      182.37],\n",
       "       [     314.92,      176.52],\n",
       "       [     313.95,      175.55],\n",
       "       [     313.95,       173.6],\n",
       "       [        312,      171.65],\n",
       "       [        312,      170.67],\n",
       "       [     311.02,       169.7],\n",
       "       [     311.02,      167.75],\n",
       "       [     310.05,      166.77],\n",
       "       [     309.07,      166.77],\n",
       "       [      308.1,       165.8]], dtype=float32)"
      ]
     },
     "execution_count": 9,
     "metadata": {},
     "output_type": "execute_result"
    }
   ],
   "source": [
    "mask"
   ]
  },
  {
   "cell_type": "code",
   "execution_count": 10,
   "metadata": {},
   "outputs": [],
   "source": [
    "def polygon_area(coords):\n",
    "    # Separate the coordinates into x and y\n",
    "    x = [coord[0] for coord in coords]\n",
    "    y = [coord[1] for coord in coords]\n",
    "\n",
    "    # Apply the Shoelace formula\n",
    "    area = 0.5 * np.abs(np.dot(x, np.roll(y, 1)) - np.dot(y, np.roll(x, 1)))\n",
    "\n",
    "    return area\n"
   ]
  },
  {
   "cell_type": "code",
   "execution_count": 14,
   "metadata": {},
   "outputs": [
    {
     "name": "stdout",
     "output_type": "stream",
     "text": [
      "5396.5\n",
      "4759.75\n",
      "5660.0\n",
      "3924.75\n"
     ]
    }
   ],
   "source": [
    "for segment in masks:\n",
    "    print(polygon_area(segment))"
   ]
  },
  {
   "cell_type": "code",
   "execution_count": 17,
   "metadata": {},
   "outputs": [
    {
     "data": {
      "text/plain": [
       "(355, 624, 3)"
      ]
     },
     "execution_count": 17,
     "metadata": {},
     "output_type": "execute_result"
    }
   ],
   "source": [
    "img.shape"
   ]
  },
  {
   "cell_type": "code",
   "execution_count": 18,
   "metadata": {},
   "outputs": [
    {
     "data": {
      "text/plain": [
       "[ultralytics.engine.results.Results object with attributes:\n",
       " \n",
       " boxes: ultralytics.engine.results.Boxes object\n",
       " keypoints: None\n",
       " masks: ultralytics.engine.results.Masks object\n",
       " names: {0: 'person', 1: 'bicycle', 2: 'car', 3: 'motorcycle', 4: 'airplane', 5: 'bus', 6: 'train', 7: 'truck', 8: 'boat', 9: 'traffic light', 10: 'fire hydrant', 11: 'stop sign', 12: 'parking meter', 13: 'bench', 14: 'bird', 15: 'cat', 16: 'dog', 17: 'horse', 18: 'sheep', 19: 'cow', 20: 'elephant', 21: 'bear', 22: 'zebra', 23: 'giraffe', 24: 'backpack', 25: 'umbrella', 26: 'handbag', 27: 'tie', 28: 'suitcase', 29: 'frisbee', 30: 'skis', 31: 'snowboard', 32: 'sports ball', 33: 'kite', 34: 'baseball bat', 35: 'baseball glove', 36: 'skateboard', 37: 'surfboard', 38: 'tennis racket', 39: 'bottle', 40: 'wine glass', 41: 'cup', 42: 'fork', 43: 'knife', 44: 'spoon', 45: 'bowl', 46: 'banana', 47: 'apple', 48: 'sandwich', 49: 'orange', 50: 'broccoli', 51: 'carrot', 52: 'hot dog', 53: 'pizza', 54: 'donut', 55: 'cake', 56: 'chair', 57: 'couch', 58: 'potted plant', 59: 'bed', 60: 'dining table', 61: 'toilet', 62: 'tv', 63: 'laptop', 64: 'mouse', 65: 'remote', 66: 'keyboard', 67: 'cell phone', 68: 'microwave', 69: 'oven', 70: 'toaster', 71: 'sink', 72: 'refrigerator', 73: 'book', 74: 'clock', 75: 'vase', 76: 'scissors', 77: 'teddy bear', 78: 'hair drier', 79: 'toothbrush'}\n",
       " orig_img: array([[[ 36,  24,  20],\n",
       "         [ 45,  33,  29],\n",
       "         [ 94,  83,  79],\n",
       "         ...,\n",
       "         [185, 183, 129],\n",
       "         [153, 122,  67],\n",
       "         [158, 113,  56]],\n",
       " \n",
       "        [[ 55,  47,  47],\n",
       "         [134, 126, 126],\n",
       "         [110, 103, 100],\n",
       "         ...,\n",
       "         [163, 164, 114],\n",
       "         [143, 116,  65],\n",
       "         [159, 121,  67]],\n",
       " \n",
       "        [[ 61,  61,  67],\n",
       "         [232, 233, 237],\n",
       "         [148, 146, 146],\n",
       "         ...,\n",
       "         [162, 167, 122],\n",
       "         [138, 124,  76],\n",
       "         [130, 107,  59]],\n",
       " \n",
       "        ...,\n",
       " \n",
       "        [[ 81,  54,  44],\n",
       "         [128, 109, 102],\n",
       "         [131, 126, 125],\n",
       "         ...,\n",
       "         [164, 166, 166],\n",
       "         [169, 169, 169],\n",
       "         [170, 170, 170]],\n",
       " \n",
       "        [[ 78,  52,  38],\n",
       "         [ 93,  75,  64],\n",
       "         [153, 147, 142],\n",
       "         ...,\n",
       "         [161, 166, 165],\n",
       "         [164, 169, 168],\n",
       "         [165, 170, 169]],\n",
       " \n",
       "        [[ 73,  50,  35],\n",
       "         [ 92,  74,  63],\n",
       "         [119, 115, 110],\n",
       "         ...,\n",
       "         [163, 165, 165],\n",
       "         [163, 168, 167],\n",
       "         [164, 169, 168]]], dtype=uint8)\n",
       " orig_shape: (355, 624)\n",
       " path: 'image0.jpg'\n",
       " probs: None\n",
       " save_dir: None\n",
       " speed: {'preprocess': 3.0066967010498047, 'inference': 171.0042953491211, 'postprocess': 7.99250602722168}]"
      ]
     },
     "execution_count": 18,
     "metadata": {},
     "output_type": "execute_result"
    }
   ],
   "source": [
    "results"
   ]
  },
  {
   "cell_type": "code",
   "execution_count": null,
   "metadata": {},
   "outputs": [],
   "source": []
  }
 ],
 "metadata": {
  "kernelspec": {
   "display_name": "env",
   "language": "python",
   "name": "python3"
  },
  "language_info": {
   "codemirror_mode": {
    "name": "ipython",
    "version": 3
   },
   "file_extension": ".py",
   "mimetype": "text/x-python",
   "name": "python",
   "nbconvert_exporter": "python",
   "pygments_lexer": "ipython3",
   "version": "3.8.10"
  }
 },
 "nbformat": 4,
 "nbformat_minor": 2
}
